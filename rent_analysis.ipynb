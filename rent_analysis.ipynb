{
 "cells": [
  {
   "cell_type": "code",
   "execution_count": 9,
   "metadata": {
    "ExecuteTime": {
     "end_time": "2018-06-15T16:17:10.631096Z",
     "start_time": "2018-06-15T16:17:10.621554Z"
    },
    "init_cell": true
   },
   "outputs": [],
   "source": [
    "import missingno\n",
    "import pandas as pd\n",
    "import seaborn as sns\n",
    "import numpy as np\n",
    "\n",
    "sns.set_style(\"darkgrid\")"
   ]
  },
  {
   "cell_type": "code",
   "execution_count": 10,
   "metadata": {
    "ExecuteTime": {
     "end_time": "2018-06-15T16:17:12.362943Z",
     "start_time": "2018-06-15T16:17:11.450039Z"
    },
    "init_cell": true
   },
   "outputs": [],
   "source": [
    "df = pd.read_json(\"./tunann.jl\", encoding=\"utf-8\", lines=True)\n",
    "df.dropna(how=\"all\", inplace=True)"
   ]
  },
  {
   "cell_type": "markdown",
   "metadata": {},
   "source": [
    "## Cleaning"
   ]
  },
  {
   "cell_type": "markdown",
   "metadata": {},
   "source": [
    "### Price"
   ]
  },
  {
   "cell_type": "code",
   "execution_count": 11,
   "metadata": {
    "ExecuteTime": {
     "end_time": "2018-06-15T16:17:12.864775Z",
     "start_time": "2018-06-15T16:17:12.644764Z"
    },
    "init_cell": true
   },
   "outputs": [],
   "source": [
    "df.price = pd.to_numeric(\n",
    "    df.price.apply(lambda price_str: \"\".join(\n",
    "        [i for i in str(price_str) if i.isdecimal()]))\n",
    ")"
   ]
  },
  {
   "cell_type": "markdown",
   "metadata": {},
   "source": [
    "### Created and edited dates"
   ]
  },
  {
   "cell_type": "code",
   "execution_count": 12,
   "metadata": {
    "ExecuteTime": {
     "end_time": "2018-06-15T16:17:28.948138Z",
     "start_time": "2018-06-15T16:17:13.158844Z"
    },
    "init_cell": true
   },
   "outputs": [],
   "source": [
    "df.created = pd.to_datetime(df.created)\n",
    "df.edited = pd.to_datetime(df.edited)"
   ]
  },
  {
   "cell_type": "markdown",
   "metadata": {},
   "source": [
    "### Area"
   ]
  },
  {
   "cell_type": "code",
   "execution_count": 13,
   "metadata": {
    "ExecuteTime": {
     "end_time": "2018-06-15T16:17:29.328847Z",
     "start_time": "2018-06-15T16:17:29.214992Z"
    },
    "init_cell": true
   },
   "outputs": [],
   "source": [
    "df.area = pd.to_numeric(\n",
    "    df.area.apply(lambda area_str: \"\".join(\n",
    "        [i for i in str(area_str) if i.isdecimal()]))\n",
    ")"
   ]
  },
  {
   "cell_type": "markdown",
   "metadata": {},
   "source": [
    "### Category"
   ]
  },
  {
   "cell_type": "code",
   "execution_count": 14,
   "metadata": {
    "ExecuteTime": {
     "end_time": "2018-06-15T16:17:29.906119Z",
     "start_time": "2018-06-15T16:17:29.627565Z"
    },
    "init_cell": true
   },
   "outputs": [],
   "source": [
    "df[\"is_offer\"] = df.category.str.split(\">\").apply(\n",
    "    lambda x: str(x[0]).strip()) == \"Offres\"\n",
    "\n",
    "df[\"estate_type\"] = df.category.dropna().str.split(\n",
    "    \">\").apply(lambda x: x[2].strip())\n",
    "\n",
    "df[\"transaction_type\"] = df.category.dropna().str.split(\n",
    "    \">\").apply(lambda x: x[1].strip())\n",
    "\n",
    "df.drop(columns=\"category\", inplace=True)"
   ]
  },
  {
   "cell_type": "markdown",
   "metadata": {},
   "source": [
    "### Location"
   ]
  },
  {
   "cell_type": "code",
   "execution_count": 15,
   "metadata": {
    "ExecuteTime": {
     "end_time": "2018-06-15T16:17:30.483750Z",
     "start_time": "2018-06-15T16:17:30.194805Z"
    },
    "init_cell": true
   },
   "outputs": [],
   "source": [
    "df[\"governorate\"] = df.location.str.split(\n",
    "    \">\").apply(lambda x: str(x[1]).strip())\n",
    "\n",
    "df[\"delegation\"] = df.location.str.split(\n",
    "    \">\").apply(lambda x: str(x[2]).strip())\n",
    "\n",
    "df[\"municipality\"] = df.location.str.split(\n",
    "    \">\").apply(lambda x: str(x[3]).strip())\n",
    "\n",
    "df.drop(columns=\"location\", inplace=True)"
   ]
  },
  {
   "cell_type": "markdown",
   "metadata": {
    "ExecuteTime": {
     "end_time": "2018-06-15T15:37:44.662751Z",
     "start_time": "2018-06-15T15:37:44.650840Z"
    }
   },
   "source": [
    "### Number of rooms"
   ]
  },
  {
   "cell_type": "code",
   "execution_count": 16,
   "metadata": {
    "ExecuteTime": {
     "end_time": "2018-06-15T16:17:30.925590Z",
     "start_time": "2018-06-15T16:17:30.812412Z"
    },
    "init_cell": true
   },
   "outputs": [
    {
     "name": "stderr",
     "output_type": "stream",
     "text": [
      "/home/iyed/anaconda3/lib/python3.6/site-packages/pandas/core/indexing.py:194: SettingWithCopyWarning: \n",
      "A value is trying to be set on a copy of a slice from a DataFrame\n",
      "\n",
      "See the caveats in the documentation: http://pandas.pydata.org/pandas-docs/stable/indexing.html#indexing-view-versus-copy\n",
      "  self._setitem_with_indexer(indexer, value)\n"
     ]
    }
   ],
   "source": [
    "df[\"n_rooms\"] = df.estate_type.replace({\n",
    "    \"Appart. 5 pièces+\": \"5\",\n",
    "    \"Appart. 4 pièces\": \"4\",\n",
    "    \"Appart. 3 pièces\": \"3\",\n",
    "    \"Appart. 2 pièces\": \"2\",\n",
    "    \"Appart. 1 pièce\": \"1\"\n",
    "})\n",
    "df.estate_type.replace({\n",
    "    \"Appart. 5 pièces+\": \"Appartement\",\n",
    "    \"Appart. 4 pièces\": \"Appartement\",\n",
    "    \"Appart. 3 pièces\": \"Appartement\",\n",
    "    \"Appart. 2 pièces\": \"Appartement\",\n",
    "    \"Appart. 1 pièce\": \"Appartement\"\n",
    "}, inplace=True)\n",
    "df.n_rooms.loc[-df.n_rooms.isin([str(i) for i in range(1, 6)])] = np.nan"
   ]
  }
 ],
 "metadata": {
  "celltoolbar": "Initialization Cell",
  "kernelspec": {
   "display_name": "Python 3",
   "language": "python",
   "name": "python3"
  },
  "language_info": {
   "codemirror_mode": {
    "name": "ipython",
    "version": 3
   },
   "file_extension": ".py",
   "mimetype": "text/x-python",
   "name": "python",
   "nbconvert_exporter": "python",
   "pygments_lexer": "ipython3",
   "version": "3.6.4"
  },
  "notify_time": "5",
  "varInspector": {
   "cols": {
    "lenName": 16,
    "lenType": 16,
    "lenVar": 40
   },
   "kernels_config": {
    "python": {
     "delete_cmd_postfix": "",
     "delete_cmd_prefix": "del ",
     "library": "var_list.py",
     "varRefreshCmd": "print(var_dic_list())"
    },
    "r": {
     "delete_cmd_postfix": ") ",
     "delete_cmd_prefix": "rm(",
     "library": "var_list.r",
     "varRefreshCmd": "cat(var_dic_list()) "
    }
   },
   "types_to_exclude": [
    "module",
    "function",
    "builtin_function_or_method",
    "instance",
    "_Feature"
   ],
   "window_display": false
  }
 },
 "nbformat": 4,
 "nbformat_minor": 2
}
