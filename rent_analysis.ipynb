{
 "cells": [
  {
   "cell_type": "code",
   "execution_count": 1,
   "metadata": {},
   "outputs": [],
   "source": [
    "import pandas as pd\n",
    "import missingno\n",
    "import chardet\n",
    "import seaborn as sns\n",
    "sns.set_style(\"darkgrid\")"
   ]
  },
  {
   "cell_type": "code",
   "execution_count": 2,
   "metadata": {},
   "outputs": [],
   "source": [
    "df = pd.read_json(\"./tunann.jl\", lines=True, encoding=\"ascii\")\n",
    "df.dropna(how=\"all\", inplace=True)"
   ]
  },
  {
   "cell_type": "code",
   "execution_count": 3,
   "metadata": {},
   "outputs": [
    {
     "data": {
      "text/html": [
       "<div>\n",
       "<style scoped>\n",
       "    .dataframe tbody tr th:only-of-type {\n",
       "        vertical-align: middle;\n",
       "    }\n",
       "\n",
       "    .dataframe tbody tr th {\n",
       "        vertical-align: top;\n",
       "    }\n",
       "\n",
       "    .dataframe thead th {\n",
       "        text-align: right;\n",
       "    }\n",
       "</style>\n",
       "<table border=\"1\" class=\"dataframe\">\n",
       "  <thead>\n",
       "    <tr style=\"text-align: right;\">\n",
       "      <th></th>\n",
       "      <th>address</th>\n",
       "      <th>area</th>\n",
       "      <th>category</th>\n",
       "      <th>created</th>\n",
       "      <th>description</th>\n",
       "      <th>edited</th>\n",
       "      <th>location</th>\n",
       "      <th>price</th>\n",
       "    </tr>\n",
       "  </thead>\n",
       "  <tbody>\n",
       "    <tr>\n",
       "      <th>0</th>\n",
       "      <td>NaN</td>\n",
       "      <td>120 m²</td>\n",
       "      <td>Offres  &gt; Location  &gt; Appart. 2 pièces</td>\n",
       "      <td>29/05/2018</td>\n",
       "      <td>fb.3008\\ra louer appartement s+2 situé au 1ér ...</td>\n",
       "      <td>11/06/2018</td>\n",
       "      <td>Tunisie  &gt; Ariana  &gt; La Soukra  &gt; La Soukra</td>\n",
       "      <td>750 Dinar Tunisien (TND)</td>\n",
       "    </tr>\n",
       "    <tr>\n",
       "      <th>1</th>\n",
       "      <td>NaN</td>\n",
       "      <td>140 m²</td>\n",
       "      <td>Offres  &gt; Location vacances  &gt; Appart. 3 pièces</td>\n",
       "      <td>01/04/2012</td>\n",
       "      <td>a louer app s+3ch  coucher+2 s bain meuble  a ...</td>\n",
       "      <td>11/06/2018</td>\n",
       "      <td>Tunisie  &gt; Sousse  &gt; Akouda  &gt; Chatt Meriem</td>\n",
       "      <td>1 000 Dinar Tunisien (TND)</td>\n",
       "    </tr>\n",
       "    <tr>\n",
       "      <th>2</th>\n",
       "      <td>carthage dermech</td>\n",
       "      <td>1 m²</td>\n",
       "      <td>Offres  &gt; Location  &gt; Appart. 2 pièces</td>\n",
       "      <td>25/02/2017</td>\n",
       "      <td>la croisette immobiliére vous propose  \\rref:a...</td>\n",
       "      <td>11/06/2018</td>\n",
       "      <td>Tunisie  &gt; Tunis  &gt; Carthage  &gt; Carthage</td>\n",
       "      <td>1 200 Dinar Tunisien (TND)</td>\n",
       "    </tr>\n",
       "    <tr>\n",
       "      <th>3</th>\n",
       "      <td>yasmina hammamet</td>\n",
       "      <td>344 m²</td>\n",
       "      <td>Offres  &gt; Vente  &gt; Appart. 5 pièces+</td>\n",
       "      <td>04/06/2018</td>\n",
       "      <td>cest ladresse que vous cherchez, le mariage ...</td>\n",
       "      <td>11/06/2018</td>\n",
       "      <td>Tunisie  &gt; Nabeul  &gt; Hammamet  &gt; Hammamet</td>\n",
       "      <td>830 000 Dinar Tunisien (TND)</td>\n",
       "    </tr>\n",
       "    <tr>\n",
       "      <th>4</th>\n",
       "      <td>NaN</td>\n",
       "      <td>NaN</td>\n",
       "      <td>Offres  &gt; Location  &gt; Appart. 2 pièces</td>\n",
       "      <td>22/03/2017</td>\n",
       "      <td>la croisette immobiliére vous propose \\rref:al...</td>\n",
       "      <td>11/06/2018</td>\n",
       "      <td>Tunisie  &gt; Tunis  &gt; La Marsa  &gt; Berge Du Lac</td>\n",
       "      <td>1 400 Dinar Tunisien (TND)</td>\n",
       "    </tr>\n",
       "  </tbody>\n",
       "</table>\n",
       "</div>"
      ],
      "text/plain": [
       "            address    area                                         category  \\\n",
       "0               NaN  120 m²           Offres  > Location  > Appart. 2 pièces   \n",
       "1               NaN  140 m²  Offres  > Location vacances  > Appart. 3 pièces   \n",
       "2  carthage dermech    1 m²           Offres  > Location  > Appart. 2 pièces   \n",
       "3  yasmina hammamet  344 m²             Offres  > Vente  > Appart. 5 pièces+   \n",
       "4               NaN     NaN           Offres  > Location  > Appart. 2 pièces   \n",
       "\n",
       "      created                                        description      edited  \\\n",
       "0  29/05/2018  fb.3008\\ra louer appartement s+2 situé au 1ér ...  11/06/2018   \n",
       "1  01/04/2012  a louer app s+3ch  coucher+2 s bain meuble  a ...  11/06/2018   \n",
       "2  25/02/2017  la croisette immobiliére vous propose  \\rref:a...  11/06/2018   \n",
       "3  04/06/2018  cest ladresse que vous cherchez, le mariage ...  11/06/2018   \n",
       "4  22/03/2017  la croisette immobiliére vous propose \\rref:al...  11/06/2018   \n",
       "\n",
       "                                       location                         price  \n",
       "0   Tunisie  > Ariana  > La Soukra  > La Soukra      750 Dinar Tunisien (TND)  \n",
       "1   Tunisie  > Sousse  > Akouda  > Chatt Meriem    1 000 Dinar Tunisien (TND)  \n",
       "2      Tunisie  > Tunis  > Carthage  > Carthage    1 200 Dinar Tunisien (TND)  \n",
       "3     Tunisie  > Nabeul  > Hammamet  > Hammamet  830 000 Dinar Tunisien (TND)  \n",
       "4  Tunisie  > Tunis  > La Marsa  > Berge Du Lac    1 400 Dinar Tunisien (TND)  "
      ]
     },
     "execution_count": 3,
     "metadata": {},
     "output_type": "execute_result"
    }
   ],
   "source": [
    "df.head()"
   ]
  },
  {
   "cell_type": "markdown",
   "metadata": {},
   "source": [
    "## Cleaning"
   ]
  },
  {
   "cell_type": "markdown",
   "metadata": {},
   "source": [
    "# Price"
   ]
  },
  {
   "cell_type": "code",
   "execution_count": 4,
   "metadata": {},
   "outputs": [],
   "source": [
    "df.price = pd.to_numeric(\n",
    "    df.price.apply(lambda price_str: \"\".join([i for i in str(price_str) if i.isdecimal()]))\n",
    ")"
   ]
  },
  {
   "cell_type": "markdown",
   "metadata": {},
   "source": [
    "### Created and edited dates"
   ]
  },
  {
   "cell_type": "code",
   "execution_count": 5,
   "metadata": {},
   "outputs": [],
   "source": [
    "df.created = pd.to_datetime(df.created)"
   ]
  },
  {
   "cell_type": "code",
   "execution_count": 6,
   "metadata": {},
   "outputs": [],
   "source": [
    "df.edited = pd.to_datetime(df.edited)"
   ]
  },
  {
   "cell_type": "markdown",
   "metadata": {},
   "source": [
    "### Area"
   ]
  },
  {
   "cell_type": "code",
   "execution_count": 7,
   "metadata": {},
   "outputs": [],
   "source": [
    "df.area = pd.to_numeric(\n",
    "    df.area.apply(lambda area_str: \"\".join([i for i in str(area_str) if i.isdecimal()]))\n",
    ")"
   ]
  },
  {
   "cell_type": "markdown",
   "metadata": {},
   "source": [
    "### Category"
   ]
  },
  {
   "cell_type": "code",
   "execution_count": 8,
   "metadata": {},
   "outputs": [],
   "source": [
    "df[\"is_offer\"] = df.category.str.split(\">\").apply(lambda x: str(x[0]).strip()) == \"Offres\""
   ]
  },
  {
   "cell_type": "code",
   "execution_count": 9,
   "metadata": {},
   "outputs": [],
   "source": [
    "df[\"estate_type\"] = df.category.dropna().str.split(\">\").apply(lambda x: x[2].strip())"
   ]
  },
  {
   "cell_type": "code",
   "execution_count": 10,
   "metadata": {},
   "outputs": [],
   "source": [
    "df[\"transaction_type\"] = df.category.dropna().str.split(\">\").apply(lambda x: x[1].strip())"
   ]
  },
  {
   "cell_type": "code",
   "execution_count": 11,
   "metadata": {},
   "outputs": [],
   "source": [
    "df.drop(columns=\"category\", inplace=True)"
   ]
  },
  {
   "cell_type": "markdown",
   "metadata": {},
   "source": [
    "### Location"
   ]
  },
  {
   "cell_type": "code",
   "execution_count": 12,
   "metadata": {},
   "outputs": [],
   "source": [
    "df[\"governorate\"] = df.location.str.split(\">\").apply(lambda x: str(x[1]).strip())"
   ]
  },
  {
   "cell_type": "code",
   "execution_count": 13,
   "metadata": {},
   "outputs": [],
   "source": [
    "df[\"delegation\"] = df.location.str.split(\">\").apply(lambda x: str(x[2]).strip())"
   ]
  },
  {
   "cell_type": "code",
   "execution_count": 14,
   "metadata": {},
   "outputs": [],
   "source": [
    "df[\"municipality\"] = df.location.str.split(\">\").apply(lambda x: str(x[3]).strip())"
   ]
  },
  {
   "cell_type": "code",
   "execution_count": 15,
   "metadata": {},
   "outputs": [],
   "source": [
    "df.drop(columns=\"location\", inplace=True)"
   ]
  },
  {
   "cell_type": "code",
   "execution_count": null,
   "metadata": {},
   "outputs": [],
   "source": []
  }
 ],
 "metadata": {
  "kernelspec": {
   "display_name": "Python 3",
   "language": "python",
   "name": "python3"
  },
  "language_info": {
   "codemirror_mode": {
    "name": "ipython",
    "version": 3
   },
   "file_extension": ".py",
   "mimetype": "text/x-python",
   "name": "python",
   "nbconvert_exporter": "python",
   "pygments_lexer": "ipython3",
   "version": "3.6.4"
  }
 },
 "nbformat": 4,
 "nbformat_minor": 2
}
